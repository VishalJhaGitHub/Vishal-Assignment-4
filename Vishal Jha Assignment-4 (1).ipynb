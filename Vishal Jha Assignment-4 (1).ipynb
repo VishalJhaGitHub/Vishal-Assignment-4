{
 "cells": [
  {
   "cell_type": "code",
   "execution_count": 4,
   "id": "e6ce18a7-16f4-43f1-8402-05f20d96c1c8",
   "metadata": {},
   "outputs": [
    {
     "name": "stdout",
     "output_type": "stream",
     "text": [
      "[1, 3, 5, 7, 9, 11, 13, 15, 17, 19, 21, 23, 25]\n"
     ]
    }
   ],
   "source": [
    "#1. Which keyword is used to create a function? Create a function to return a list of odd numbers in the range of 1 to 25.\n",
    "\n",
    "#Ans\n",
    "\n",
    "#def keyword is used to create a function\n",
    "\n",
    "#Example\n",
    "\n",
    "def odd_numbers():\n",
    "    odd_numbers = []\n",
    "    for i in range(1, 26):\n",
    "        if i % 2 != 0:\n",
    "            odd_numbers.append(i)\n",
    "    return odd_numbers\n",
    "print(odd_numbers())"
   ]
  },
  {
   "cell_type": "code",
   "execution_count": 2,
   "id": "d4d2f12e-b60d-4490-a314-b25bcbb90ac8",
   "metadata": {},
   "outputs": [
    {
     "name": "stdout",
     "output_type": "stream",
     "text": [
      "1\n",
      "2\n",
      "3\n",
      "4\n"
     ]
    }
   ],
   "source": [
    "#2. Why *args and **kwargs is used in some functions? Create a function each for *args and **kwargs to demonstrate their use.\n",
    "\n",
    "#Ans \n",
    "\n",
    "#*args and **kwargs are used in functions to pass a variable number of arguments to a function.\n",
    "\n",
    "#*args allows you to pass a variable number of non-keyword arguments to a function. The arguments are passed as a tuple.\n",
    "\n",
    "#**kwargs allows you to pass a variable number of keyword arguments to a function. The arguments are passed as a dictionary.\n",
    "\n",
    "#Example of *args\n",
    "\n",
    "def print_args(*args):\n",
    "    for arg in args:\n",
    "        print(arg)\n",
    "print_args(1, 2, 3, 4)"
   ]
  },
  {
   "cell_type": "code",
   "execution_count": 4,
   "id": "87ea8d12-9ce9-434a-8ce2-940434c41524",
   "metadata": {},
   "outputs": [
    {
     "name": "stdout",
     "output_type": "stream",
     "text": [
      "a:1\n",
      "b:2\n",
      "c:3\n",
      "D:4\n"
     ]
    }
   ],
   "source": [
    "#Example of **kwargs\n",
    "\n",
    "def print_kwargs(**kwargs):\n",
    "    for key, value in kwargs.items():\n",
    "        print(f\"{key}:{value}\")\n",
    "print_kwargs(a = 1, b = 2, c = 3, D = 4)"
   ]
  },
  {
   "cell_type": "code",
   "execution_count": 5,
   "id": "fef63992-a02c-43be-8c95-a3d88c53cef1",
   "metadata": {},
   "outputs": [
    {
     "name": "stdout",
     "output_type": "stream",
     "text": [
      "2\n",
      "4\n",
      "6\n",
      "8\n",
      "10\n"
     ]
    }
   ],
   "source": [
    "#3. What is an iterator in python? Name the method used to initialise the iterator object and the method used for iteration. Use these methods to print the first five elements of the given list [2, 4, 6, 8, 10, 12, 14, 16, 18, 20].\n",
    "\n",
    "#Ans\n",
    "\n",
    "#iterator in Python is an object that implements the iterator protocol, which consists of the methods __iter__() and __next__(). The __iter__() method is used to initialize the iterator object and the __next__() method is used for iteration.\n",
    "\n",
    "#Example\n",
    "\n",
    "list_ = [2, 4, 6, 8, 10, 12, 14, 16, 18, 20]\n",
    "iterator = iter(list_)\n",
    "for i in range(5):\n",
    "    print(next(iterator))"
   ]
  },
  {
   "cell_type": "code",
   "execution_count": 6,
   "id": "1fdd9acb-dabb-458a-8ae7-702b887e841f",
   "metadata": {},
   "outputs": [
    {
     "name": "stdout",
     "output_type": "stream",
     "text": [
      "0\n",
      "2\n",
      "4\n",
      "6\n",
      "8\n"
     ]
    }
   ],
   "source": [
    "#4. What is a generator function in python? Why yield keyword is used? Give an example of a generator function.\n",
    "\n",
    "#Ans\n",
    "\n",
    "#A generator function in Python is a special kind of function that returns an iterator. Instead of using the return keyword to return a value, a generator function uses the yield keyword to generate a value. The generator function can be used to generate an iterable sequence of values, one at a time, on demand.\n",
    "\n",
    "#The yield keyword is used in a generator function to generate a value and then pause the function's execution. When the function is resumed, it continues executing until it encounters another yield keyword, at which point it again pauses and generates another value. This process continues until the generator function is exhausted.\n",
    "\n",
    "#Example\n",
    "\n",
    "def even_numbers(limit):\n",
    "    i = 0\n",
    "    while i < limit:\n",
    "        yield i\n",
    "        i += 2\n",
    "evens = even_numbers(10)\n",
    "for i in evens:\n",
    "    print(i)"
   ]
  },
  {
   "cell_type": "code",
   "execution_count": 7,
   "id": "917734ea-24c8-4428-b218-72e0ada33aca",
   "metadata": {},
   "outputs": [
    {
     "name": "stdout",
     "output_type": "stream",
     "text": [
      "2\n",
      "3\n",
      "5\n",
      "7\n",
      "11\n",
      "13\n",
      "17\n",
      "19\n",
      "23\n",
      "29\n",
      "31\n",
      "37\n",
      "41\n",
      "43\n",
      "47\n",
      "53\n",
      "59\n",
      "61\n",
      "67\n",
      "71\n"
     ]
    }
   ],
   "source": [
    "#5. Create a generator function for prime numbers less than 1000. Use the next() method to print the first 20 prime numbers.\n",
    "\n",
    "#Ans Example \n",
    "\n",
    "def prime_numbers():\n",
    "    primes = []\n",
    "    for num in range(2, 1000):\n",
    "        for prime in primes:\n",
    "            if num % prime == 0:\n",
    "                break\n",
    "        else:\n",
    "            primes.append(num)\n",
    "            yield num\n",
    "primes = prime_numbers()\n",
    "for i in range(20):\n",
    "    print(next(primes))"
   ]
  },
  {
   "cell_type": "code",
   "execution_count": 8,
   "id": "7bc42f4f-568d-44d0-ab26-e311ac2f336e",
   "metadata": {},
   "outputs": [
    {
     "name": "stdout",
     "output_type": "stream",
     "text": [
      "0\n",
      "1\n",
      "1\n",
      "2\n",
      "3\n",
      "5\n",
      "8\n",
      "13\n",
      "21\n",
      "34\n"
     ]
    }
   ],
   "source": [
    "#6. Write a python program to print the first 10 Fibonacci numbers using a while loop.\n",
    "\n",
    "#Ans Example \n",
    "\n",
    "a, b = 0, 1\n",
    "count = 0\n",
    "while count < 10:\n",
    "    print(a)\n",
    "    a, b = b, a + b\n",
    "    count += 1"
   ]
  },
  {
   "cell_type": "code",
   "execution_count": 11,
   "id": "91a3bec6-e065-48f1-9eb9-addf7fa852d4",
   "metadata": {},
   "outputs": [
    {
     "name": "stdout",
     "output_type": "stream",
     "text": [
      "['p', 'w', 's', 'k', 'i', 'l', 'l', 's']\n"
     ]
    }
   ],
   "source": [
    "#7. Write a List Comprehension to iterate through the given string: ‘pwskills’. Expected output: ['p', 'w', 's', 'k', 'i', 'l', 'l', 's']\n",
    "\n",
    "#Ans Example\n",
    "\n",
    "str = 'pwskills'\n",
    "char = [char for char in string]\n",
    "print(characters)"
   ]
  },
  {
   "cell_type": "code",
   "execution_count": 12,
   "id": "1ba30c9a-c137-44ac-bcf8-fefe74d52531",
   "metadata": {},
   "outputs": [
    {
     "name": "stdout",
     "output_type": "stream",
     "text": [
      "100 is not a palindrome.\n"
     ]
    }
   ],
   "source": [
    "#8. Write a python program to check whether a given number is Palindrome or not using a while loop.\n",
    "\n",
    "#Ans Example\n",
    "\n",
    "def is_palindrome(num):\n",
    "    original_num = num\n",
    "    reverse = 0\n",
    "    while num > 0:\n",
    "        last_digit = num % 10\n",
    "        reverse = (reverse * 10) + last_digit\n",
    "        num = num // 10\n",
    "    return original_num == reverse\n",
    "number = 100\n",
    "if is_palindrome(number):\n",
    "    print(f'{number} is a palindrome.')\n",
    "else:\n",
    "    print(f'{number} is not a palindrome.')"
   ]
  },
  {
   "cell_type": "code",
   "execution_count": 13,
   "id": "b8d7d0fd-b498-4b14-9bed-8a5d60145da7",
   "metadata": {},
   "outputs": [
    {
     "name": "stdout",
     "output_type": "stream",
     "text": [
      "[1, 3, 5, 7, 9, 11, 13, 15, 17, 19, 21, 23, 25, 27, 29, 31, 33, 35, 37, 39, 41, 43, 45, 47, 49, 51, 53, 55, 57, 59, 61, 63, 65, 67, 69, 71, 73, 75, 77, 79, 81, 83, 85, 87, 89, 91, 93, 95, 97, 99]\n"
     ]
    }
   ],
   "source": [
    "#9. Use a list comprehension to create a list from 1 to 100 and use another List comprehension to filter out odd numbers.\n",
    "\n",
    "#Ans Example \n",
    "\n",
    "numbers = [num for num in range(1, 101)]\n",
    "odd_numbers = [num for num in numbers if num % 2 != 0]\n",
    "print(odd_numbers)"
   ]
  }
 ],
 "metadata": {
  "kernelspec": {
   "display_name": "Python 3 (ipykernel)",
   "language": "python",
   "name": "python3"
  },
  "language_info": {
   "codemirror_mode": {
    "name": "ipython",
    "version": 3
   },
   "file_extension": ".py",
   "mimetype": "text/x-python",
   "name": "python",
   "nbconvert_exporter": "python",
   "pygments_lexer": "ipython3",
   "version": "3.10.8"
  }
 },
 "nbformat": 4,
 "nbformat_minor": 5
}
